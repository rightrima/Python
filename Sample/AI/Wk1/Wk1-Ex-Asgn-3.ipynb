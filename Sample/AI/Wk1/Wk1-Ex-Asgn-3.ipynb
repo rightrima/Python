{
 "cells": [
  {
   "cell_type": "code",
   "execution_count": 3,
   "id": "5fbe0d1e-134b-4e2c-a61a-dffde42faec4",
   "metadata": {},
   "outputs": [
    {
     "name": "stdin",
     "output_type": "stream",
     "text": [
      "Enter a value 10\n"
     ]
    },
    {
     "name": "stdout",
     "output_type": "stream",
     "text": [
      "CORRECT\n"
     ]
    }
   ],
   "source": [
    "# print 'CORRECT' if i == 10\n",
    "value = int(input('Enter a value'))\n",
    "if(value==10):\n",
    "    print('CORRECT')"
   ]
  },
  {
   "cell_type": "code",
   "execution_count": 11,
   "id": "d11a2f51-8b67-4a94-ac70-7cc24b09fbab",
   "metadata": {},
   "outputs": [
    {
     "name": "stdin",
     "output_type": "stream",
     "text": [
      "Enter a value HOPE@123\n"
     ]
    },
    {
     "name": "stdout",
     "output_type": "stream",
     "text": [
      "Your password is correct\n"
     ]
    }
   ],
   "source": [
    "# Check the password, using if and else\n",
    "Password='HOPE@123'\n",
    "value = input('Enter a value')\n",
    "if(value==Password):\n",
    "    print('Your password is correct')"
   ]
  },
  {
   "cell_type": "code",
   "execution_count": 7,
   "id": "24dad669-63d5-4d48-ab29-fc6d43da1365",
   "metadata": {},
   "outputs": [
    {
     "name": "stdout",
     "output_type": "stream",
     "text": [
      "To know your category\n"
     ]
    },
    {
     "name": "stdin",
     "output_type": "stream",
     "text": [
      "Enter an age 66\n"
     ]
    },
    {
     "name": "stdout",
     "output_type": "stream",
     "text": [
      "age: 66\n",
      "Category: senior citizen\n"
     ]
    }
   ],
   "source": [
    "### Catagory the people by their age like children, adult, citizen, senior citizen...\n",
    "print('To know your category')\n",
    "age = int(input('Enter an age'))\n",
    "if(age<=15):\n",
    "    Category = 'children'\n",
    "elif(age>15 and age<=30):\n",
    "    Category = 'adult'\n",
    "elif(age>30 and age<=59):\n",
    "    Category = 'citizen'\n",
    "elif(age>59):\n",
    "    Category = 'senior citizen'\n",
    "print('age:',age )\n",
    "print('Category:',Category )\n"
   ]
  },
  {
   "cell_type": "code",
   "execution_count": 31,
   "id": "39e3aa39-86d1-4013-b22e-ee00e5ebbb10",
   "metadata": {},
   "outputs": [
    {
     "name": "stdin",
     "output_type": "stream",
     "text": [
      "Enter any number 20\n"
     ]
    },
    {
     "name": "stdout",
     "output_type": "stream",
     "text": [
      "The given number is positive\n"
     ]
    }
   ],
   "source": [
    "# Find whether given number is positive or negative\n",
    "AnyNum = float(input('Enter any number'))\n",
    "print(('The given number is positive','The given number is negative') [AnyNum<0])\n",
    "#if(AnyNum>0):\n",
    "#     print('The given number is positive')\n",
    "#else:\n",
    "#    print('The given number is negative')"
   ]
  },
  {
   "cell_type": "code",
   "execution_count": 41,
   "id": "128994bf-b8a6-40e2-b74f-d296d6e1c77e",
   "metadata": {},
   "outputs": [
    {
     "name": "stdin",
     "output_type": "stream",
     "text": [
      "Enter a number to check 22\n"
     ]
    },
    {
     "name": "stdout",
     "output_type": "stream",
     "text": [
      "No:22 is not divisible by 5\n"
     ]
    }
   ],
   "source": [
    "# Check whether the given number is divisible by 5\n",
    "AnyNum = int(input('Enter a number to check'))\n",
    "print((f'No:{AnyNum} is not divisible by 5','The given number is divisible by 5') [AnyNum%5==0])\n"
   ]
  }
 ],
 "metadata": {
  "kernelspec": {
   "display_name": "Python 3 (ipykernel)",
   "language": "python",
   "name": "python3"
  },
  "language_info": {
   "codemirror_mode": {
    "name": "ipython",
    "version": 3
   },
   "file_extension": ".py",
   "mimetype": "text/x-python",
   "name": "python",
   "nbconvert_exporter": "python",
   "pygments_lexer": "ipython3",
   "version": "3.12.4"
  }
 },
 "nbformat": 4,
 "nbformat_minor": 5
}
