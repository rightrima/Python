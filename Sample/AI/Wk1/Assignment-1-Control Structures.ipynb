{
 "cells": [
  {
   "cell_type": "markdown",
   "id": "5deba9b7-5578-47c4-b546-b16ce1ba87a3",
   "metadata": {},
   "source": [
    "# Adding two numbers in Python - Method 1\n",
    "Num1 = 10\n",
    "Num2 = 20\n",
    "print ( \"The added number value is \",Num1+Num2)\n"
   ]
  },
  {
   "cell_type": "code",
   "execution_count": 5,
   "id": "d0a642f9-8106-4b5e-b5bc-ff1c850f2e5c",
   "metadata": {},
   "outputs": [],
   "source": []
  },
  {
   "cell_type": "markdown",
   "id": "4913323c-f326-4d01-81cf-0fb650d9dc54",
   "metadata": {},
   "source": [
    "# Adding two numbers in Python - Method 2\n",
    "Num1 =int(input(\"Enter a first number to add\"))\n",
    "Num2 = int(input(\"Enter a second number to add  to the first number\"))\n",
    "AddedNumber = Num1+Num2\n",
    "print ( \"The added number value is \",AddedNumber)\n"
   ]
  },
  {
   "cell_type": "code",
   "execution_count": null,
   "id": "bad93365-4ba7-4224-9cd5-e7bfa90611cd",
   "metadata": {},
   "outputs": [],
   "source": []
  },
  {
   "cell_type": "markdown",
   "id": "c5d6cd3c-918b-4417-9d45-2ad4fdd01f81",
   "metadata": {},
   "source": [
    "# Adding two numbers in Python - Method 3\n",
    "print ( \"The added number value is \",int(input(\"Enter a first number to add\"))+int(input(\"Enter a second number to add  to the first number\")))"
   ]
  },
  {
   "cell_type": "code",
   "execution_count": 67,
   "id": "6c43cdd0-9fa1-4da2-81d8-c458c69b9f0c",
   "metadata": {},
   "outputs": [
    {
     "name": "stdin",
     "output_type": "stream",
     "text": [
      "Enter a first number to add:  d\n"
     ]
    },
    {
     "name": "stdout",
     "output_type": "stream",
     "text": [
      "The input first number is not a number\n",
      "It is unable to add the numbers.\n"
     ]
    }
   ],
   "source": [
    "Error = False\n",
    "try: Num1 = int(input('Enter a first number to add: '))\n",
    "except ValueError:\n",
    "    Error= True\n",
    "    print('The input first number is not a number')\n",
    "if(Error!=True):    \n",
    "    try: Num1 = int(input('Enter a second number to add: '))\n",
    "    except ValueError:\n",
    "        Error= True\n",
    "        print('The input second number is not a number')    \n",
    "if((Error!=True)):\n",
    "    AddedNumber = Num1+Num2\n",
    "    print ( \"The added number value is \",AddedNumber)\n",
    "else:\n",
    "    print ( \"It is unable to add the numbers.\")"
   ]
  },
  {
   "cell_type": "code",
   "execution_count": 151,
   "id": "b88cd618-520c-4f2b-bbf7-7ac0adb750a0",
   "metadata": {},
   "outputs": [
    {
     "name": "stdin",
     "output_type": "stream",
     "text": [
      "Enter weight of the person in kilo grams: 65\n",
      "Enter height of the person in centimeter: 180\n"
     ]
    },
    {
     "name": "stdout",
     "output_type": "stream",
     "text": [
      "1.8\n",
      "3.24\n",
      "BMI value is: 20.061728395061728\n",
      "The persion is Normal thinness.\n"
     ]
    }
   ],
   "source": [
    "# Body Mass Index - method 1\n",
    "Error = False\n",
    "try: Weight = float(input('Enter weight of the person in kilo grams:'))\n",
    "except ValueError:\n",
    "    Error= True\n",
    "    print('The input value for height is not a number')\n",
    "if(Error!=True):    \n",
    "    try: Height = float(input('Enter height of the person in centimeter:'))\n",
    "    except ValueError:\n",
    "        Error= True\n",
    "        print('The input value for height is not a number')\n",
    "if((Error!=True)):\n",
    "    BMI = Weight/((Height/100)**2)\n",
    "    #print(Height/100)\n",
    "    #print(((Height/100)**2))\n",
    "    print (f\"BMI value is: {BMI}\")\n",
    "else:\n",
    "    print ( \"It is unable to calculate the BMI.\")\n",
    "Const_String= \"The persion is \"\n",
    "match BMI:\n",
    "    case num if 1 <= num <  16:\n",
    "        print( Const_String+ \"Severe thinness.\")\n",
    "    case num if 16 <= num <  17:\n",
    "        print( Const_String+ \"Moderate thinness.\")\n",
    "    case num if 17 <= num <  18.5:\n",
    "        print( Const_String+ \"Mild thinness.\")\n",
    "    case num if 18.5 <= num <  25:\n",
    "        print( Const_String+ \"Normal thinness.\")\n",
    "    case num if 25 <= num <  30:\n",
    "        print( Const_String+ \"Obese Class I.\")\n",
    "    case num if 30 <= num <  35:\n",
    "        print( Const_String+ \"Obese Class II.\")\n",
    "    case num if num >  40:\n",
    "        print( Const_String+ \"Obese Class III.\")    \n",
    "    case _:\n",
    "        print( \"It is unable to find the BMI of the persion.\"\"\")\n",
    "    "
   ]
  },
  {
   "cell_type": "code",
   "execution_count": null,
   "id": "f9cdc02f-c1af-4f92-8725-cca03382a82d",
   "metadata": {},
   "outputs": [],
   "source": [
    "import numpy as np\n",
    "for x, y in np.ndindex((200,200)):\n",
    "    print(x, y)\n",
    "    "
   ]
  }
 ],
 "metadata": {
  "kernelspec": {
   "display_name": "Python 3 (ipykernel)",
   "language": "python",
   "name": "python3"
  },
  "language_info": {
   "codemirror_mode": {
    "name": "ipython",
    "version": 3
   },
   "file_extension": ".py",
   "mimetype": "text/x-python",
   "name": "python",
   "nbconvert_exporter": "python",
   "pygments_lexer": "ipython3",
   "version": "3.12.4"
  }
 },
 "nbformat": 4,
 "nbformat_minor": 5
}
