{
 "cells": [
  {
   "cell_type": "code",
   "execution_count": 80,
   "id": "15563c44-cd60-4844-891f-e1fd13c26c61",
   "metadata": {},
   "outputs": [
    {
     "name": "stdout",
     "output_type": "stream",
     "text": [
      "x is les than 2\n",
      "0\n",
      "x is les than 2\n",
      "1\n",
      "x is greater than 2\n",
      "3\n",
      "x is greater than 2\n",
      "4\n"
     ]
    }
   ],
   "source": [
    "n = 5\n",
    "for x in range(5):\n",
    "    #print (x)\n",
    "    if(x>2):\n",
    "     pass\n",
    "     print('x is greater than 2')\n",
    "     print(x)\n",
    "    elif(x<2):\n",
    "     print('x is les than 2')\n",
    "     print(x)\n"
   ]
  },
  {
   "cell_type": "code",
   "execution_count": 68,
   "id": "c1524616-977c-4b33-938e-2030ed66053e",
   "metadata": {},
   "outputs": [
    {
     "name": "stdout",
     "output_type": "stream",
     "text": [
      "raja is M and is not eligibile for vote\n",
      "meena is F and is eligibile for vote\n"
     ]
    }
   ],
   "source": [
    "Details = [[12,'M','raja'],[19,'F','meena']]\n",
    "for candidate in Details:\n",
    "    if(candidate[0]>18):\n",
    "        print (f\"{candidate[2]} is {candidate[1]} and is eligibile for vote\")\n",
    "    else:\n",
    "        print (f\"{candidate[2]} is {candidate[1]} and is not eligibile for vote\")"
   ]
  },
  {
   "cell_type": "code",
   "execution_count": 100,
   "id": "4f8d7aed-406c-4f7a-bd8c-e8cfe760d3d9",
   "metadata": {},
   "outputs": [
    {
     "ename": "error",
     "evalue": "OpenCV(4.10.0) D:\\a\\opencv-python\\opencv-python\\opencv\\modules\\objdetect\\src\\cascadedetect.cpp:1689: error: (-215:Assertion failed) !empty() in function 'cv::CascadeClassifier::detectMultiScale'\n",
     "output_type": "error",
     "traceback": [
      "\u001b[1;31m---------------------------------------------------------------------------\u001b[0m",
      "\u001b[1;31merror\u001b[0m                                     Traceback (most recent call last)",
      "Cell \u001b[1;32mIn[100], line 13\u001b[0m\n\u001b[0;32m     11\u001b[0m xml_data \u001b[38;5;241m=\u001b[39m cv2\u001b[38;5;241m.\u001b[39mCascadeClassifier(\u001b[38;5;124m'\u001b[39m\u001b[38;5;124mXML-data.xml\u001b[39m\u001b[38;5;124m'\u001b[39m)  \n\u001b[0;32m     12\u001b[0m \u001b[38;5;66;03m# Detecting object in the image with Haar cascade classifier   \u001b[39;00m\n\u001b[1;32m---> 13\u001b[0m detecting \u001b[38;5;241m=\u001b[39m xml_data\u001b[38;5;241m.\u001b[39mdetectMultiScale(imaging_gray,   \n\u001b[0;32m     14\u001b[0m                                    minSize \u001b[38;5;241m=\u001b[39m (\u001b[38;5;241m30\u001b[39m, \u001b[38;5;241m30\u001b[39m))  \n\u001b[0;32m     15\u001b[0m \u001b[38;5;66;03m# Amount of object detected  \u001b[39;00m\n\u001b[0;32m     16\u001b[0m amountDetecting \u001b[38;5;241m=\u001b[39m \u001b[38;5;28mlen\u001b[39m(detecting)  \n",
      "\u001b[1;31merror\u001b[0m: OpenCV(4.10.0) D:\\a\\opencv-python\\opencv-python\\opencv\\modules\\objdetect\\src\\cascadedetect.cpp:1689: error: (-215:Assertion failed) !empty() in function 'cv::CascadeClassifier::detectMultiScale'\n"
     ]
    }
   ],
   "source": [
    "# Import OpenCV module  \n",
    "import cv2  \n",
    "# Import pyplot from matplotlib as plt  \n",
    "from matplotlib import pyplot as pltd  \n",
    "# Opening the image from files  \n",
    "imaging = cv2.imread(\"python-opencv-object-detection5.png\")  \n",
    "# Altering properties of image with cv2  \n",
    "imaging_gray = cv2.cvtColor(imaging, cv2.COLOR_BGR2GRAY)  \n",
    "imaging_rgb = cv2.cvtColor(imaging, cv2.COLOR_BGR2RGB)  \n",
    "# Importing Haar cascade classifier xml data  \n",
    "#xml_data = cv2.CascadeClassifier('XML-data.xml')  \n",
    "# Detecting object in the image with Haar cascade classifier   \n",
    "detecting = xml_data.detectMultiScale(imaging_gray,   \n",
    "                                   minSize = (30, 30))  \n",
    "# Amount of object detected  \n",
    "amountDetecting = len(detecting)  \n",
    "# Using if condition to highlight the object detected  \n",
    "if amountDetecting != 0:  \n",
    "    for (a, b, width, height) in detecting:  \n",
    "        cv2.rectangle(imaging_rgb, (a, b), # Highlighting detected object with rectangle  \n",
    "                      (a + height, b + width),   \n",
    "                      (0, 275, 0), 9)  \n",
    "# Plotting image with subplot() from plt  \n",
    "pltd.subplot(1, 1, 1)  \n",
    "# Displaying image in the output  \n",
    "pltd.imshow(imaging_rgb)  \n",
    "pltd.show()  "
   ]
  }
 ],
 "metadata": {
  "kernelspec": {
   "display_name": "Python 3 (ipykernel)",
   "language": "python",
   "name": "python3"
  },
  "language_info": {
   "codemirror_mode": {
    "name": "ipython",
    "version": 3
   },
   "file_extension": ".py",
   "mimetype": "text/x-python",
   "name": "python",
   "nbconvert_exporter": "python",
   "pygments_lexer": "ipython3",
   "version": "3.12.4"
  }
 },
 "nbformat": 4,
 "nbformat_minor": 5
}
