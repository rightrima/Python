{
 "cells": [
  {
   "cell_type": "code",
   "execution_count": 31,
   "id": "96bd2080-d880-4e96-b02c-690725f5481c",
   "metadata": {},
   "outputs": [
    {
     "name": "stdout",
     "output_type": "stream",
     "text": [
      "Machine Learning\n",
      "Neural Networks\n",
      "Vision\n",
      "Robotics\n",
      "Speech Processing\n",
      "Natural Language Processing\n"
     ]
    }
   ],
   "source": [
    "In [6]: # Create a class and function, and list out the items in the list\n",
    "\n",
    "class SubfieldsInAI:\n",
    "    \n",
    "    def Subfields():\n",
    "        subfields = ['Machine Learning','Neural Networks','Vision','Robotics','Speech Processing','Natural Language Processing']\n",
    "        for fields in subfields:\n",
    "            print (fields)\n",
    "             \n",
    "SubfieldsInAI.Subfields()"
   ]
  },
  {
   "cell_type": "code",
   "execution_count": 62,
   "id": "2ad3c486-f2f3-41f9-9785-562db9f18ca9",
   "metadata": {},
   "outputs": [
    {
     "name": "stdin",
     "output_type": "stream",
     "text": [
      "Enter a number to find a given number is Odd or Even:  11\n"
     ]
    },
    {
     "name": "stdout",
     "output_type": "stream",
     "text": [
      "The given number is Odd\n"
     ]
    }
   ],
   "source": [
    "# Create a function that checks whether the given number is Odd or Even\n",
    "class OddEven:    \n",
    "    def OddEven():        \n",
    "        try: Num1 = int(input('Enter a number to find a given number is Odd or Even: '))                     \n",
    "        except ValueError:            \n",
    "            print('The input given number is not a number')        \n",
    "            print ( \"It is unable to find a given number is Odd or Even.\")\n",
    "            return False\n",
    "        return (Num1%2==0)\n",
    "        \n",
    "if(OddEven.OddEven()):\n",
    "    print ('The given number is Even')\n",
    "else:\n",
    "    print ('The given number is Odd')"
   ]
  },
  {
   "cell_type": "code",
   "execution_count": 98,
   "id": "00d0debc-7a0b-479b-9d61-7540f801fe7c",
   "metadata": {},
   "outputs": [
    {
     "name": "stdout",
     "output_type": "stream",
     "text": [
      "elegibility of marriage for male and female\n"
     ]
    },
    {
     "name": "stdin",
     "output_type": "stream",
     "text": [
      "Enter your age:  5\n",
      "Enter your Gender:  d\n"
     ]
    },
    {
     "name": "stdout",
     "output_type": "stream",
     "text": [
      "Your Age: 5\n",
      "Your Gender: d\n",
      "NOT ELIGIBILE\n"
     ]
    }
   ],
   "source": [
    "# Create a function that tells elegibility of marriage for male and female according to their age limit like 21 for male and 18 for female\n",
    "\n",
    "class ElegiblityForMarriage:  \n",
    "    def Elegible():\n",
    "        try: Age = int(input('Enter your age: '))           \n",
    "        except ValueError:            \n",
    "            print('The age input given number is not a number')        \n",
    "            print( \"It is unable to find marriage eligiability.\")\n",
    "            return\n",
    "        Gender = input('Enter your Gender: ')\n",
    "        print('Your Age:',Age)\n",
    "        print('Your Gender:',Gender)        \n",
    "        if(Gender.casefold() =='male' and Age>=21):\n",
    "            print ('The person is eligibile for marriage')\n",
    "        elif(Gender.casefold() =='female' and Age>=18):            \n",
    "            print ('eligibile'.upper())\n",
    "        else:\n",
    "            print ('not eligibile'.upper())        \n",
    "        return\n",
    "print (\"elegibility of marriage for male and female\")\n",
    "ElegiblityForMarriage.Elegible()\n",
    "\n",
    "    "
   ]
  },
  {
   "cell_type": "code",
   "execution_count": 130,
   "id": "a435f79a-7aac-4437-857f-36c01c886295",
   "metadata": {},
   "outputs": [
    {
     "name": "stdin",
     "output_type": "stream",
     "text": [
      "Enter your no of Subjects:  2\n",
      "Enter your Subject0:  5\n",
      "Enter your Subject1:  5\n"
     ]
    },
    {
     "name": "stdout",
     "output_type": "stream",
     "text": [
      "the percentage of your mark 5.0\n"
     ]
    }
   ],
   "source": [
    "class FindPercent:  \n",
    "    def percentage():        \n",
    "       TotalSub = int(input('Enter your no of Subjects: '))           \n",
    "       Mark=0\n",
    "       for i in range(0,TotalSub):       \n",
    "           Mark += int(input(f'Enter your Subject{i}: '))                     \n",
    "       print (f\"the percentage of your mark {(Mark/TotalSub):2}\")\n",
    "FindPercent.percentage()"
   ]
  }
 ],
 "metadata": {
  "kernelspec": {
   "display_name": "Python 3 (ipykernel)",
   "language": "python",
   "name": "python3"
  },
  "language_info": {
   "codemirror_mode": {
    "name": "ipython",
    "version": 3
   },
   "file_extension": ".py",
   "mimetype": "text/x-python",
   "name": "python",
   "nbconvert_exporter": "python",
   "pygments_lexer": "ipython3",
   "version": "3.12.4"
  }
 },
 "nbformat": 4,
 "nbformat_minor": 5
}
