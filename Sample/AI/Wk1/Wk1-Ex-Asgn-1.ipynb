{
 "cells": [
  {
   "cell_type": "code",
   "execution_count": 1,
   "id": "a820774b-89a7-4f59-9596-e62a34e23353",
   "metadata": {},
   "outputs": [
    {
     "name": "stdout",
     "output_type": "stream",
     "text": [
      "Hope AI\n"
     ]
    }
   ],
   "source": [
    "print (\"Hope AI\")"
   ]
  },
  {
   "cell_type": "code",
   "execution_count": 3,
   "id": "e99adf45-e03c-4894-9ab1-e943a389ea21",
   "metadata": {},
   "outputs": [
    {
     "name": "stdin",
     "output_type": "stream",
     "text": [
      "Enter your institute name?: Hope Ai\n"
     ]
    },
    {
     "data": {
      "text/plain": [
       "'Hope Ai'"
      ]
     },
     "execution_count": 3,
     "metadata": {},
     "output_type": "execute_result"
    }
   ],
   "source": [
    "input(\"Enter your institute name?:\")"
   ]
  },
  {
   "cell_type": "code",
   "execution_count": 5,
   "id": "324715c7-de24-491e-bcd1-62c7be5540de",
   "metadata": {},
   "outputs": [
    {
     "name": "stdin",
     "output_type": "stream",
     "text": [
      "Enter your name: Raj\n",
      "Enter your age: 15\n",
      "Enter your school name: Guru school\n",
      "Enter your drgree: B.E CSE\n"
     ]
    },
    {
     "data": {
      "text/plain": [
       "'B.E CSE'"
      ]
     },
     "execution_count": 5,
     "metadata": {},
     "output_type": "execute_result"
    }
   ],
   "source": [
    "input(\"Enter your name:\")\n",
    "input(\"Enter your age:\")\n",
    "input(\"Enter your school name:\")\n",
    "input(\"Enter your drgree:\")"
   ]
  },
  {
   "cell_type": "code",
   "execution_count": 9,
   "id": "73884d74-9cbf-45fc-8f22-5ce6a2708dac",
   "metadata": {},
   "outputs": [
    {
     "name": "stdout",
     "output_type": "stream",
     "text": [
      "The added value 77\n"
     ]
    }
   ],
   "source": [
    "#Addition\n",
    "a= 43\n",
    "b = 34\n",
    "add = a+b\n",
    "print('The added value',add)\n"
   ]
  },
  {
   "cell_type": "code",
   "execution_count": 41,
   "id": "56e8dcd1-96c1-46fe-9595-6c24df0b20cf",
   "metadata": {},
   "outputs": [
    {
     "name": "stdout",
     "output_type": "stream",
     "text": [
      "The multipled value 6111\n",
      "The divded value 2.4516129032258065\n",
      "The floor of divided value 0.24516129032258066\n",
      "The floor of divided value 2\n",
      "The Modulo value 14\n",
      "The Power value 256\n"
     ]
    }
   ],
   "source": [
    "#Multiplication\n",
    "a= 63\n",
    "b= 97\n",
    "Mul = a* b\n",
    "print('The multipled value',Mul)\n",
    "\n",
    "#Division\n",
    "a= 76\n",
    "b= 31\n",
    "Div = a/b\n",
    "print('The divded value',Div)\n",
    "\n",
    "\n",
    "floor0 = Div/10\n",
    "print('The floor of divided value',floor0)\n",
    "\n",
    "#Floor division\n",
    "import math\n",
    "floor = math.floor(Div)\n",
    "print('The floor of divided value',floor)\n",
    "\n",
    "\n",
    "#Modulo\n",
    "a= 76\n",
    "b= 31\n",
    "mod = a%b\n",
    "print('The Modulo value',mod)\n",
    "\n",
    "#Power\n",
    "a= 4\n",
    "b= 4\n",
    "Power = a**b\n",
    "print('The Power value',Power)"
   ]
  },
  {
   "cell_type": "code",
   "execution_count": null,
   "id": "75fcb3b8-20cd-46e0-a8eb-eb2cceaba1b3",
   "metadata": {},
   "outputs": [],
   "source": []
  },
  {
   "cell_type": "code",
   "execution_count": null,
   "id": "c313791a-16af-4085-98f1-04bf78a6659e",
   "metadata": {},
   "outputs": [],
   "source": []
  }
 ],
 "metadata": {
  "kernelspec": {
   "display_name": "Python 3 (ipykernel)",
   "language": "python",
   "name": "python3"
  },
  "language_info": {
   "codemirror_mode": {
    "name": "ipython",
    "version": 3
   },
   "file_extension": ".py",
   "mimetype": "text/x-python",
   "name": "python",
   "nbconvert_exporter": "python",
   "pygments_lexer": "ipython3",
   "version": "3.12.4"
  }
 },
 "nbformat": 4,
 "nbformat_minor": 5
}
